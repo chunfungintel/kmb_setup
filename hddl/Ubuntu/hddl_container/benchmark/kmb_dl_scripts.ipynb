{
 "cells": [
  {
   "cell_type": "code",
   "execution_count": 1,
   "metadata": {},
   "outputs": [],
   "source": [
    "from gazpacho import get\n",
    "from gazpacho import Soup\n",
    "import os, sys\n",
    "from re import search\n",
    "import wget"
   ]
  },
  {
   "cell_type": "markdown",
   "metadata": {},
   "source": [
    "pip3 install jupyter wget gazpacho"
   ]
  },
  {
   "cell_type": "code",
   "execution_count": 14,
   "metadata": {},
   "outputs": [],
   "source": [
    "def Search_and_Export(link=None, file=None, env_tag=None, export_file=None,verbose=0):\n",
    "    html = get(link)\n",
    "    soup = Soup(html)\n",
    "    body = soup.find('body')\n",
    "    download = body.find('a')\n",
    "    release_binary = [dl.text for dl in download]\n",
    "    if verbose == 1:\n",
    "        for dl in release_binary:\n",
    "            print(dl)\n",
    "    found = 0\n",
    "    for binary in release_binary:\n",
    "        if search(file, binary):\n",
    "            print(binary)\n",
    "            file_exact = binary\n",
    "            found += 1\n",
    "    if found == 0:\n",
    "        print(\"No file found: \" + file)\n",
    "    elif found > 1:\n",
    "        print(\"Multiple files found! Only the last found saved!\")\n",
    "    os.environ[env_tag] = file_exact\n",
    "    if export_file != None:\n",
    "        with open(export_file, \"a\") as myfile:\n",
    "            myfile.write(\"export \" + env_tag + \"=\" + file_exact + \"\\n\")"
   ]
  },
  {
   "cell_type": "code",
   "execution_count": 12,
   "metadata": {},
   "outputs": [
    {
     "name": "stdout",
     "output_type": "stream",
     "text": [
      "https://ubit-artifactory-sh.intel.com/artifactory/sed-dgn-local/yocto/builds/2020/PREINT/20201003-0611\n"
     ]
    }
   ],
   "source": [
    "#os.environ[\"KMB_LINK\"] = 'https://ubit-artifactory-sh.intel.com/artifactory/sed-dgn-local/yocto/builds/2020/PREINT/20201003-0611/'\n",
    "Release_Link = os.getenv(\"KMB_LINK\")\n",
    "\n",
    "# trim / from http link\n",
    "if Release_Link[-1] == '/':\n",
    "    Release_Link = Release_Link[:-1]\n",
    "print(Release_Link)"
   ]
  },
  {
   "cell_type": "code",
   "execution_count": 16,
   "metadata": {},
   "outputs": [
    {
     "name": "stdout",
     "output_type": "stream",
     "text": [
      "kmb-hddl-driver-dkms_0.1.0-1e8e5_all.deb\n",
      "kmb-hddl-driver-dkms_0.1.0-eabaa_all.deb\n",
      "Multiple files found! Only the last found saved!\n"
     ]
    }
   ],
   "source": [
    "Search_and_Export(link=Release_Link, file=\"l_openvino_toolkit_private_ubuntu18_kmb_x86_.*.tar.gz\", \n",
    "                  env_tag='OPENVINO_PACKAGE_NAME', export_file=\"dl_export\",verbose=0)\n",
    "\n",
    "Search_and_Export(link=Release_Link + \"/host_packages\", file=\"kmb-hddl-driver-.*_all.deb\", \n",
    "                  env_tag='DEB_PACKAGE_NAME', export_file=\"dl_export\",verbose=0)\n",
    "\n",
    "Search_and_Export(link=Release_Link + \"/host_packages\", file=\"bypass_host_hddlunite_hvasample_.*.tgz\", \n",
    "                  env_tag='HOST_PACKAGE_NAME', export_file=\"dl_export\",verbose=0)\n",
    "\n",
    "Search_and_Export(link=Release_Link + \"/host_packages\", file=\"pms-host-*-x86_64.deb\", \n",
    "                  env_tag='PMS_PACKAGE_NAME', export_file=\"dl_export\",verbose=0)\n"
   ]
  },
  {
   "cell_type": "markdown",
   "metadata": {},
   "source": [
    "url = Release_Link + '/' + os.getenv(\"KMB_HDDL_DEB\")\n",
    "wget.download(url)"
   ]
  },
  {
   "cell_type": "code",
   "execution_count": null,
   "metadata": {},
   "outputs": [],
   "source": []
  }
 ],
 "metadata": {
  "kernelspec": {
   "display_name": "Python 3",
   "language": "python",
   "name": "python3"
  },
  "language_info": {
   "codemirror_mode": {
    "name": "ipython",
    "version": 3
   },
   "file_extension": ".py",
   "mimetype": "text/x-python",
   "name": "python",
   "nbconvert_exporter": "python",
   "pygments_lexer": "ipython3",
   "version": "3.6.9"
  }
 },
 "nbformat": 4,
 "nbformat_minor": 4
}
