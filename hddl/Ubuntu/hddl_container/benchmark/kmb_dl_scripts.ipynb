{
 "cells": [
  {
   "cell_type": "code",
   "execution_count": null,
   "metadata": {},
   "outputs": [],
   "source": [
    "from gazpacho import get\n",
    "from gazpacho import Soup\n",
    "import os, sys\n",
    "from re import search\n",
    "import wget"
   ]
  },
  {
   "cell_type": "markdown",
   "metadata": {},
   "source": [
    "pip3 install jupyter wget gazpacho"
   ]
  },
  {
   "cell_type": "code",
   "execution_count": null,
   "metadata": {},
   "outputs": [],
   "source": [
    "def Search_and_Export(link=None, file=None, env_tag=None, export_file=None,verbose=0):\n",
    "    html = get(link)\n",
    "    soup = Soup(html)\n",
    "    body = soup.find('body')\n",
    "    download = body.find('a')\n",
    "    release_binary = [dl.text for dl in download]\n",
    "    if verbose == 1:\n",
    "        for dl in release_binary:\n",
    "            print(dl)\n",
    "    found = 0\n",
    "    for binary in release_binary:\n",
    "        if search(file, binary):\n",
    "            print(binary)\n",
    "            file_exact = binary\n",
    "            found += 1\n",
    "    if found == 0:\n",
    "        print(\"No file found: \" + file)\n",
    "    elif found > 1:\n",
    "        print(\"Multiple files found! Only the last found saved!\")\n",
    "    os.environ[env_tag] = file_exact\n",
    "    if export_file != None:\n",
    "        with open(export_file, \"a\") as myfile:\n",
    "            myfile.write(\"export \" + env_tag + \"=\" + file_exact + \"\\n\")"
   ]
  },
  {
   "cell_type": "markdown",
   "metadata": {},
   "source": [
    "os.environ[\"KMB_LINK\"] = 'https://ubit-artifactory-sh.intel.com/artifactory/sed-dgn-local/yocto/builds/2021/Mainline_BKC/20210302-0010'\n",
    "os.environ[\"KMB_FILE\"] = 'download.txt'"
   ]
  },
  {
   "cell_type": "code",
   "execution_count": null,
   "metadata": {},
   "outputs": [],
   "source": [
    "#os.environ[\"KMB_LINK\"] = 'https://ubit-artifactory-sh.intel.com/artifactory/sed-dgn-local/yocto/builds/2020/PREINT/20201003-0611/'\n",
    "Release_Link = os.getenv(\"KMB_LINK\")\n",
    "\n",
    "# trim / from http link\n",
    "if Release_Link[-1] == '/':\n",
    "    Release_Link = Release_Link[:-1]\n",
    "print(Release_Link)"
   ]
  },
  {
   "cell_type": "code",
   "execution_count": null,
   "metadata": {},
   "outputs": [],
   "source": [
    "def Get_Tags(filename):\n",
    "    with open(filename) as f:\n",
    "        lines = [line.rstrip() for line in f]\n",
    "    for line in lines:\n",
    "        if line[0] != '#':\n",
    "            xxx = line.split('::')\n",
    "            print(Release_Link+xxx[0])\n",
    "            print(xxx[1])\n",
    "            print(xxx[2])\n",
    "            Search_and_Export(link=Release_Link+xxx[0], file=xxx[1], env_tag=xxx[2], export_file=\"dl_export\", verbose=0)\n",
    "\n",
    "\n",
    "Get_Tags(os.getenv(\"KMB_FILE\"))"
   ]
  },
  {
   "cell_type": "markdown",
   "metadata": {},
   "source": [
    "Search_and_Export(link=Release_Link, file=\"l_openvino_toolkit_private_ubuntu18_kmb_x86_.*.tar.gz\", \n",
    "                  env_tag='OPENVINO_PACKAGE_NAME', export_file=\"dl_export\",verbose=0)\n",
    "\n",
    "Search_and_Export(link=Release_Link + \"/host_packages\", file=\"kmb-hddl-driver-.*_all.deb\", \n",
    "                  env_tag='DEB_PACKAGE_NAME', export_file=\"dl_export\",verbose=0)\n",
    "\n",
    "Search_and_Export(link=Release_Link + \"/host_packages\", file=\"bypass_host_hddlunite_hvasample_.*.tgz\", \n",
    "                  env_tag='HOST_PACKAGE_NAME', export_file=\"dl_export\",verbose=0)\n",
    "\n",
    "Search_and_Export(link=Release_Link + \"/host_packages\", file=\"pms-host-*-x86_64.deb\", \n",
    "                  env_tag='PMS_PACKAGE_NAME', export_file=\"dl_export\",verbose=0)\n"
   ]
  },
  {
   "cell_type": "markdown",
   "metadata": {},
   "source": [
    "url = Release_Link + '/' + os.getenv(\"KMB_HDDL_DEB\")\n",
    "wget.download(url)"
   ]
  },
  {
   "cell_type": "code",
   "execution_count": null,
   "metadata": {},
   "outputs": [],
   "source": []
  }
 ],
 "metadata": {
  "kernelspec": {
   "display_name": "Python 3",
   "language": "python",
   "name": "python3"
  },
  "language_info": {
   "codemirror_mode": {
    "name": "ipython",
    "version": 3
   },
   "file_extension": ".py",
   "mimetype": "text/x-python",
   "name": "python",
   "nbconvert_exporter": "python",
   "pygments_lexer": "ipython3",
   "version": "3.8.5"
  }
 },
 "nbformat": 4,
 "nbformat_minor": 4
}
